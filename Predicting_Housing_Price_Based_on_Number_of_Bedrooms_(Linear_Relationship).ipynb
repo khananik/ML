{
  "nbformat": 4,
  "nbformat_minor": 0,
  "metadata": {
    "colab": {
      "provenance": []
    },
    "kernelspec": {
      "name": "python3",
      "display_name": "Python 3"
    },
    "language_info": {
      "name": "python"
    }
  },
  "cells": [
    {
      "cell_type": "markdown",
      "source": [
        "**Problem Statement:** Build a neural network that predicts the price of a house according to a simple formula.\n",
        "\n",
        "Imagine that house pricing is as easy as:\n",
        "\n",
        "A house has a base cost of 50k, and every additional bedroom adds a cost of 50k. This will make a 1 bedroom house cost 100k, a 2 bedroom house cost 150k etc.\n",
        "\n",
        "Create a neural network that learns this relationship so that it would predict a 7 bedroom house as costing close to 400k etc."
      ],
      "metadata": {
        "id": "3tEPbMeJbM8f"
      }
    },
    {
      "cell_type": "code",
      "execution_count": 1,
      "metadata": {
        "id": "JxnaEtAobJ8M"
      },
      "outputs": [],
      "source": [
        "import tensorflow as tf\n",
        "import numpy as np\n",
        "from tensorflow import keras"
      ]
    },
    {
      "cell_type": "code",
      "source": [
        "xs = np.array([1, 2, 3, 4, 5, 6], dtype = float)\n",
        "ys = np.array([1, 1.5, 2, 2.5, 3, 3.5], dtype = float)\n",
        "\n",
        "# Define your model (should be a model with 1 dense layer and 1 unit)\n",
        "model = tf.keras.Sequential([keras.layers.Dense(units = 1, input_shape = [1])])\n",
        "\n",
        "# Compile your model\n",
        "# Set the optimizer to Stochastic Gradient Descent\n",
        "# and use Mean Squared Error as the loss function\n",
        "model.compile(optimizer = \"sgd\", loss = \"mean_squared_error\")"
      ],
      "metadata": {
        "id": "uc8FLOj1bvpA"
      },
      "execution_count": 2,
      "outputs": []
    },
    {
      "cell_type": "code",
      "source": [
        "# Train your model for 1000 epochs by feeding the i/o tensors\n",
        "model.fit(xs, ys, epochs = 1000)"
      ],
      "metadata": {
        "id": "AeJPJBX6cEu-"
      },
      "execution_count": null,
      "outputs": []
    },
    {
      "cell_type": "code",
      "source": [
        "new_x = 7.0\n",
        "prediction = model.predict([new_x])\n",
        "print(prediction)"
      ],
      "metadata": {
        "colab": {
          "base_uri": "https://localhost:8080/"
        },
        "id": "YoQFHD4nc4wR",
        "outputId": "ed4d04ee-70b1-430e-ef00-51bcc4ea8c27"
      },
      "execution_count": 6,
      "outputs": [
        {
          "output_type": "stream",
          "name": "stdout",
          "text": [
            "1/1 [==============================] - 0s 56ms/step\n",
            "[[4.0098286]]\n"
          ]
        }
      ]
    }
  ]
}